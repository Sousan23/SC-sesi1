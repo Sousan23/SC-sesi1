{
  "nbformat": 4,
  "nbformat_minor": 0,
  "metadata": {
    "colab": {
      "provenance": [],
      "authorship_tag": "ABX9TyPbYMo9/ipbt88MfleU3JfU",
      "include_colab_link": true
    },
    "kernelspec": {
      "name": "python3",
      "display_name": "Python 3"
    },
    "language_info": {
      "name": "python"
    }
  },
  "cells": [
    {
      "cell_type": "markdown",
      "metadata": {
        "id": "view-in-github",
        "colab_type": "text"
      },
      "source": [
        "<a href=\"https://colab.research.google.com/github/Sousan23/SC-sesi1/blob/main/2802513981_metodius%20valentino%20jordan%20soushan%20letson.ipynb\" target=\"_parent\"><img src=\"https://colab.research.google.com/assets/colab-badge.svg\" alt=\"Open In Colab\"/></a>"
      ]
    },
    {
      "cell_type": "code",
      "execution_count": 1,
      "metadata": {
        "colab": {
          "base_uri": "https://localhost:8080/"
        },
        "id": "wqTTHBPei99J",
        "outputId": "861fcdf1-c0a6-4c6d-c07f-2e6718e6f712"
      },
      "outputs": [
        {
          "output_type": "stream",
          "name": "stdout",
          "text": [
            "hello\n"
          ]
        }
      ],
      "source": [
        "print (\"hello\")"
      ]
    },
    {
      "cell_type": "markdown",
      "source": [
        "sesi 1"
      ],
      "metadata": {
        "id": "xC4NY2MmjMs4"
      }
    },
    {
      "cell_type": "code",
      "source": [
        "import time\n",
        "print(time.ctime())"
      ],
      "metadata": {
        "colab": {
          "base_uri": "https://localhost:8080/"
        },
        "id": "dI5eu88HjlVV",
        "outputId": "7352ad0b-d6c8-4d6f-e353-286b979e0acf"
      },
      "execution_count": 5,
      "outputs": [
        {
          "output_type": "stream",
          "name": "stdout",
          "text": [
            "Thu Feb  6 04:41:16 2025\n"
          ]
        }
      ]
    },
    {
      "cell_type": "code",
      "source": [],
      "metadata": {
        "id": "_d4GoRoclF7-"
      },
      "execution_count": null,
      "outputs": []
    },
    {
      "cell_type": "code",
      "source": [
        "z = \"hello\"\n",
        "y = 20\n",
        "c = 30.9\n",
        "f = [\"Apple\", \"berry\"]\n",
        "\n",
        "z, y, c, f,\n",
        "print(z, y, c, f,)"
      ],
      "metadata": {
        "colab": {
          "base_uri": "https://localhost:8080/"
        },
        "id": "KVmdNDbCkBPr",
        "outputId": "3c64ce91-3472-4823-e950-fc6d7f3866ce"
      },
      "execution_count": 7,
      "outputs": [
        {
          "output_type": "stream",
          "name": "stdout",
          "text": [
            "hello 20 30.9 ['Apple', 'berry']\n"
          ]
        }
      ]
    },
    {
      "cell_type": "code",
      "source": [
        "o = int(1)\n",
        "y = int(2.8)\n",
        "z = int(\"3\")\n",
        "j = str(20)\n",
        "\n",
        "print (o, y, z, j,)"
      ],
      "metadata": {
        "colab": {
          "base_uri": "https://localhost:8080/"
        },
        "id": "cHVA4oNXkxVo",
        "outputId": "a02a7946-f7c4-4152-ae17-e4c802d93c22"
      },
      "execution_count": 8,
      "outputs": [
        {
          "output_type": "stream",
          "name": "stdout",
          "text": [
            "1 2 3 20\n"
          ]
        }
      ]
    },
    {
      "cell_type": "code",
      "source": [
        "a = \"hello\"\n",
        "b = \" world\"\n",
        "c = a+b\n",
        "print(c)"
      ],
      "metadata": {
        "colab": {
          "base_uri": "https://localhost:8080/"
        },
        "id": "g0sohdWRleEV",
        "outputId": "ace5b138-5746-45fb-8204-3b779b7cebfc"
      },
      "execution_count": 10,
      "outputs": [
        {
          "output_type": "stream",
          "name": "stdout",
          "text": [
            "hello world\n"
          ]
        }
      ]
    },
    {
      "cell_type": "code",
      "source": [
        "a = \"hello world\"\n",
        "print(a[1])\n",
        "\n",
        "print(len(a))"
      ],
      "metadata": {
        "colab": {
          "base_uri": "https://localhost:8080/"
        },
        "id": "zKQk25ZJl3uQ",
        "outputId": "78dccd83-0271-4d29-88b9-fa280eff9c6d"
      },
      "execution_count": 13,
      "outputs": [
        {
          "output_type": "stream",
          "name": "stdout",
          "text": [
            "e\n",
            "11\n"
          ]
        }
      ]
    },
    {
      "cell_type": "code",
      "source": [
        "b = \"BINUS Univ\"\n",
        "print(b[2:5])\n",
        "\n",
        "c = \"BINUS Univ\"\n",
        "print(b[:5])\n",
        "\n",
        "a = \"BINUS Univ\"\n",
        "print(b[2:])\n"
      ],
      "metadata": {
        "colab": {
          "base_uri": "https://localhost:8080/"
        },
        "id": "xa6j6hSHmbH6",
        "outputId": "a9ae9dde-3534-44d6-ee9c-e875841cc486"
      },
      "execution_count": 17,
      "outputs": [
        {
          "output_type": "stream",
          "name": "stdout",
          "text": [
            "NUS\n",
            "BINUS\n",
            "NUS Univ\n"
          ]
        }
      ]
    },
    {
      "cell_type": "code",
      "source": [
        "a = \"hello\"\n",
        "print(a.upper())\n",
        "\n",
        "b = \"hello\"\n",
        "print(b.lower())\n",
        "\n",
        "c = \"hello\"\n",
        "print(a.replace(\"h\", \"j\"))"
      ],
      "metadata": {
        "colab": {
          "base_uri": "https://localhost:8080/"
        },
        "id": "8eK-N8o1naRp",
        "outputId": "2c2e6f36-7482-4e7c-ae35-a1ae98b54aba"
      },
      "execution_count": 24,
      "outputs": [
        {
          "output_type": "stream",
          "name": "stdout",
          "text": [
            "HELLO\n",
            "hello\n",
            "jello\n"
          ]
        }
      ]
    },
    {
      "cell_type": "code",
      "source": [
        "nama = \"jamie\"\n",
        "x = 17\n",
        "string = \"nama saya {} umur {}\"\n",
        "\n",
        "print (string.format(nama, x))"
      ],
      "metadata": {
        "colab": {
          "base_uri": "https://localhost:8080/"
        },
        "id": "NssTDyUToXro",
        "outputId": "df27f263-1f1c-4225-e093-fa6d7d9f7411"
      },
      "execution_count": 26,
      "outputs": [
        {
          "output_type": "stream",
          "name": "stdout",
          "text": [
            "nama saya jamie umur 17\n"
          ]
        }
      ]
    },
    {
      "cell_type": "code",
      "source": [
        "nama = \"Grace\"\n",
        "for i in enumerate(nama):\n",
        "  print(i)"
      ],
      "metadata": {
        "colab": {
          "base_uri": "https://localhost:8080/"
        },
        "id": "rOfxHrLxowv0",
        "outputId": "e4e04319-534b-4962-91bd-83016a1e177d"
      },
      "execution_count": 29,
      "outputs": [
        {
          "output_type": "stream",
          "name": "stdout",
          "text": [
            "(0, 'G')\n",
            "(1, 'r')\n",
            "(2, 'a')\n",
            "(3, 'c')\n",
            "(4, 'e')\n"
          ]
        }
      ]
    },
    {
      "cell_type": "code",
      "source": [
        "def perbandingan (a,b):\n",
        "  if a>b:\n",
        "    print(\"a lebih dari b\")\n",
        "  elif a<b:\n",
        "      print(\"a kurang dari b\")\n",
        "  else:\n",
        "        print(\"a = b\")"
      ],
      "metadata": {
        "id": "FnNbIus9phNk"
      },
      "execution_count": 37,
      "outputs": []
    },
    {
      "cell_type": "code",
      "source": [
        "perbandingan (7,11)"
      ],
      "metadata": {
        "colab": {
          "base_uri": "https://localhost:8080/"
        },
        "id": "8XUz-WVBqcqv",
        "outputId": "7d488c8d-1688-4e7d-8e50-aff6aad01379"
      },
      "execution_count": 38,
      "outputs": [
        {
          "output_type": "stream",
          "name": "stdout",
          "text": [
            "a kurang dari b\n"
          ]
        }
      ]
    },
    {
      "cell_type": "markdown",
      "source": [],
      "metadata": {
        "id": "JfmSZOUrqa1a"
      }
    },
    {
      "cell_type": "code",
      "source": [
        "i=1\n",
        "while i<5:\n",
        "   print(i)\n",
        "   i += 1"
      ],
      "metadata": {
        "colab": {
          "base_uri": "https://localhost:8080/"
        },
        "id": "UIuKddwar_ul",
        "outputId": "f2f28f05-162c-423e-b2d4-73c1af718275"
      },
      "execution_count": 51,
      "outputs": [
        {
          "output_type": "stream",
          "name": "stdout",
          "text": [
            "1\n",
            "2\n",
            "3\n",
            "4\n"
          ]
        }
      ]
    },
    {
      "cell_type": "code",
      "source": [
        "i=1\n",
        "for i in range(2,6):\n",
        "  print(i)"
      ],
      "metadata": {
        "colab": {
          "base_uri": "https://localhost:8080/"
        },
        "id": "_DPeU5VqsNAR",
        "outputId": "caee2b31-741c-421e-f1ad-a3c9b4da6845"
      },
      "execution_count": 53,
      "outputs": [
        {
          "output_type": "stream",
          "name": "stdout",
          "text": [
            "2\n",
            "3\n",
            "4\n",
            "5\n"
          ]
        }
      ]
    },
    {
      "cell_type": "code",
      "source": [
        "for i in range(2,40):\n",
        "  if i%2 == 0:\n",
        "    print(str(i) + \"ganep\")\n",
        "  else:\n",
        "   print(str(i) + \"genjil\")"
      ],
      "metadata": {
        "colab": {
          "base_uri": "https://localhost:8080/"
        },
        "id": "P0dWkIosuYQu",
        "outputId": "7a6f50c4-9cae-41ca-ed06-c59ca072130e"
      },
      "execution_count": 62,
      "outputs": [
        {
          "output_type": "stream",
          "name": "stdout",
          "text": [
            "2ganep\n",
            "3genjil\n",
            "4ganep\n",
            "5genjil\n",
            "6ganep\n",
            "7genjil\n",
            "8ganep\n",
            "9genjil\n",
            "10ganep\n",
            "11genjil\n",
            "12ganep\n",
            "13genjil\n",
            "14ganep\n",
            "15genjil\n",
            "16ganep\n",
            "17genjil\n",
            "18ganep\n",
            "19genjil\n",
            "20ganep\n",
            "21genjil\n",
            "22ganep\n",
            "23genjil\n",
            "24ganep\n",
            "25genjil\n",
            "26ganep\n",
            "27genjil\n",
            "28ganep\n",
            "29genjil\n",
            "30ganep\n",
            "31genjil\n",
            "32ganep\n",
            "33genjil\n",
            "34ganep\n",
            "35genjil\n",
            "36ganep\n",
            "37genjil\n",
            "38ganep\n",
            "39genjil\n"
          ]
        }
      ]
    },
    {
      "cell_type": "code",
      "source": [
        "import numpy as np"
      ],
      "metadata": {
        "id": "63DHaEKruzSb"
      },
      "execution_count": 63,
      "outputs": []
    },
    {
      "cell_type": "code",
      "source": [
        "x = np.array([[1, 2, 3], [3, 6, 7,]])\n",
        "x"
      ],
      "metadata": {
        "colab": {
          "base_uri": "https://localhost:8080/"
        },
        "id": "9eYJefXevKP8",
        "outputId": "131382fb-a5ba-431c-9088-53473cfcab43"
      },
      "execution_count": 64,
      "outputs": [
        {
          "output_type": "execute_result",
          "data": {
            "text/plain": [
              "array([[1, 2, 3],\n",
              "       [3, 6, 7]])"
            ]
          },
          "metadata": {},
          "execution_count": 64
        }
      ]
    },
    {
      "cell_type": "code",
      "source": [
        "y = np.array([[2, 2, 2], [5, 6, 4,]])\n",
        "y"
      ],
      "metadata": {
        "colab": {
          "base_uri": "https://localhost:8080/"
        },
        "id": "meC8-eLNv7AL",
        "outputId": "512df487-185d-43bb-b6cb-bf8f69f9863c"
      },
      "execution_count": 66,
      "outputs": [
        {
          "output_type": "execute_result",
          "data": {
            "text/plain": [
              "array([[2, 2, 2],\n",
              "       [5, 6, 4]])"
            ]
          },
          "metadata": {},
          "execution_count": 66
        }
      ]
    },
    {
      "cell_type": "code",
      "source": [
        "print(x+y)"
      ],
      "metadata": {
        "colab": {
          "base_uri": "https://localhost:8080/"
        },
        "id": "uqw7_T9gv9Hu",
        "outputId": "3c355520-6594-4553-91f7-c8abae91d387"
      },
      "execution_count": 67,
      "outputs": [
        {
          "output_type": "stream",
          "name": "stdout",
          "text": [
            "[[ 3  4  5]\n",
            " [ 8 12 11]]\n"
          ]
        }
      ]
    },
    {
      "cell_type": "code",
      "source": [
        "data = np.array ([10, 9, 8, 7, 5, 6])\n",
        "\n",
        "print(\"rata-rata:\", np.mean(data))\n",
        "print(\"maksimum:\", np.max(data))\n",
        "print(\"minimum:\", np.min(data))\n",
        "print(\"standar devisiasi\", np.std(data))"
      ],
      "metadata": {
        "colab": {
          "base_uri": "https://localhost:8080/"
        },
        "id": "kf9fW1EwwFKf",
        "outputId": "955b37a9-1ca0-4853-b209-b2f2deb7dc33"
      },
      "execution_count": 68,
      "outputs": [
        {
          "output_type": "stream",
          "name": "stdout",
          "text": [
            "rata-rata: 7.5\n",
            "maksimum: 10\n",
            "minimum: 5\n",
            "standar devisiasi 1.707825127659933\n"
          ]
        }
      ]
    },
    {
      "cell_type": "code",
      "source": [
        "\n",
        "def calculate(uas, uts, asg):\n",
        "    final_score = (0.5 * uas) + (0.3 * uts) + (0.2 * asg)\n",
        "    return final_score\n",
        "\n",
        "\n",
        "def get_grade(score):\n",
        "    if score >= 80:\n",
        "        return \"A\"\n",
        "    elif score >= 70:\n",
        "        return \"B\"\n",
        "    elif score >= 60:\n",
        "        return \"C\"\n",
        "    elif score >= 50:\n",
        "        return \"D\"\n",
        "    else:\n",
        "        return \"E\"\n",
        "\n",
        "\n",
        "username = input(\"Masukkan Username: \")\n",
        "password = \"\"\n",
        "\n",
        "while password != \"Admin123\":\n",
        "    password = input(\"Masukkan Password: \")\n",
        "    if password != \"Admin123\":\n",
        "        print(\"Password salah! Silakan coba lagi.\")\n",
        "\n",
        "print(\"Login Berhasil!\\n\")\n",
        "\n",
        "\n",
        "nama_siswa = input(\"Masukkan Nama Mahasiswa: \")\n",
        "uas = int(input(\"Masukkan Nilai UAS: \"))\n",
        "uts = int(input(\"Masukkan Nilai UTS: \"))\n",
        "asg = int(input(\"Masukkan Nilai ASG: \"))\n",
        "\n",
        "\n",
        "final_score = calculate(uas, uts, asg)\n",
        "grade = get_grade(final_score)\n",
        "\n",
        "\n",
        "print(\"\\n=== HASIL PERHITUNGAN ===\")\n",
        "print(f\"Nama Mahasiswa: {nama_siswa}\")\n",
        "print(f\"Final Score: {final_score:.2f}\")\n",
        "print(f\"Grade: {grade}\")"
      ],
      "metadata": {
        "colab": {
          "base_uri": "https://localhost:8080/"
        },
        "id": "HzAYx1umEASU",
        "outputId": "1fb29058-3998-446f-fe0d-1af6bdcbe2ec"
      },
      "execution_count": 3,
      "outputs": [
        {
          "output_type": "stream",
          "name": "stdout",
          "text": [
            "Masukkan Username: ben\n",
            "Masukkan Password: Admin123\n",
            "Login Berhasil!\n",
            "\n",
            "Masukkan Nama Mahasiswa: benjamin\n",
            "Masukkan Nilai UAS: 86\n",
            "Masukkan Nilai UTS: 87\n",
            "Masukkan Nilai ASG: 94\n",
            "\n",
            "=== HASIL PERHITUNGAN ===\n",
            "Nama Mahasiswa: benjamin\n",
            "Final Score: 87.90\n",
            "Grade: A\n"
          ]
        }
      ]
    }
  ]
}